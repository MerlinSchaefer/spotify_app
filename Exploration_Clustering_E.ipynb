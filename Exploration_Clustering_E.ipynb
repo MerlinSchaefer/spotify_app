{
 "cells": [
  {
   "cell_type": "code",
   "execution_count": 12,
   "metadata": {},
   "outputs": [],
   "source": [
    "import spotipy\n",
    "from spotipy.oauth2 import SpotifyClientCredentials\n",
    "import spotipy.util as util\n",
    "from pathlib import Path\n",
    "import pandas as pd\n",
    "import numpy as np\n",
    "import matplotlib.pyplot as plt\n",
    "import seaborn as sns\n",
    "from spotifuncs import *"
   ]
  },
  {
   "cell_type": "code",
   "execution_count": 2,
   "metadata": {},
   "outputs": [],
   "source": [
    "path = Path(\"C:/Users/ms101/OneDrive/DataScience_ML/projects/spotify_app\")"
   ]
  },
  {
   "cell_type": "code",
   "execution_count": 3,
   "metadata": {},
   "outputs": [],
   "source": [
    "with open(path / \"client_s.txt\") as f:\n",
    "    content = f.readlines()\n",
    "content = [x.strip() for x in content]\n",
    "\n",
    "client_id = content[0]\n",
    "client_secret = content[1]"
   ]
  },
  {
   "cell_type": "code",
   "execution_count": 4,
   "metadata": {},
   "outputs": [],
   "source": [
    "with open(path / \"usernames.txt\") as f:\n",
    "    usernames = f.readlines()\n",
    "usernames = [x.strip() for x in usernames]\n",
    "\n",
    "username = usernames[2]\n"
   ]
  },
  {
   "cell_type": "code",
   "execution_count": 5,
   "metadata": {},
   "outputs": [],
   "source": [
    "scope = \"user-library-read user-read-recently-played user-top-read playlist-modify-public playlist-read-private playlist-read-collaborative\"\n",
    "\n",
    "redirect_uri = \"https://developer.spotify.com/dashboard/applications/4a4e029d299a4241873db8300038bf0a\"\n",
    "\n",
    "client_credentials_manager = SpotifyClientCredentials(client_id=client_id, \n",
    "                                                      client_secret=client_secret)"
   ]
  },
  {
   "cell_type": "code",
   "execution_count": 6,
   "metadata": {},
   "outputs": [],
   "source": [
    "sp = authenticate(redirect_uri, client_credentials_manager, username, scope, client_id, client_secret)"
   ]
  },
  {
   "cell_type": "code",
   "execution_count": 36,
   "metadata": {},
   "outputs": [
    {
     "ename": "TypeError",
     "evalue": "drop_duplicates() got an unexpected keyword argument 'axis'",
     "output_type": "error",
     "traceback": [
      "\u001b[1;31m---------------------------------------------------------------------------\u001b[0m",
      "\u001b[1;31mTypeError\u001b[0m                                 Traceback (most recent call last)",
      "\u001b[1;32m<ipython-input-36-675ff664e846>\u001b[0m in \u001b[0;36m<module>\u001b[1;34m\u001b[0m\n\u001b[0;32m     14\u001b[0m \u001b[0mtop_tracks\u001b[0m \u001b[1;33m=\u001b[0m \u001b[0mpd\u001b[0m\u001b[1;33m.\u001b[0m\u001b[0mconcat\u001b[0m\u001b[1;33m(\u001b[0m\u001b[1;33m[\u001b[0m\u001b[0mtop_tracks_short_df\u001b[0m\u001b[1;33m,\u001b[0m \u001b[0mtop_tracks_med_df\u001b[0m\u001b[1;33m,\u001b[0m \u001b[0mtop_tracks_long_df\u001b[0m\u001b[1;33m]\u001b[0m\u001b[1;33m)\u001b[0m\u001b[1;33m\u001b[0m\u001b[1;33m\u001b[0m\u001b[0m\n\u001b[0;32m     15\u001b[0m \u001b[0mtop_tracks\u001b[0m \u001b[1;33m=\u001b[0m \u001b[0mtop_tracks\u001b[0m\u001b[1;33m.\u001b[0m\u001b[0mreset_index\u001b[0m\u001b[1;33m(\u001b[0m\u001b[0mdrop\u001b[0m \u001b[1;33m=\u001b[0m \u001b[1;32mTrue\u001b[0m\u001b[1;33m)\u001b[0m\u001b[1;33m\u001b[0m\u001b[1;33m\u001b[0m\u001b[0m\n\u001b[1;32m---> 16\u001b[1;33m \u001b[0mtop_tracks\u001b[0m\u001b[1;33m.\u001b[0m\u001b[0mdrop_duplicates\u001b[0m\u001b[1;33m(\u001b[0m\u001b[0maxis\u001b[0m \u001b[1;33m=\u001b[0m \u001b[1;36m0\u001b[0m\u001b[1;33m,\u001b[0m\u001b[0minplace\u001b[0m \u001b[1;33m=\u001b[0m \u001b[1;32mTrue\u001b[0m\u001b[1;33m)\u001b[0m\u001b[1;33m\u001b[0m\u001b[1;33m\u001b[0m\u001b[0m\n\u001b[0m\u001b[0;32m     17\u001b[0m \u001b[1;33m\u001b[0m\u001b[0m\n\u001b[0;32m     18\u001b[0m \u001b[0mtop_artists_long\u001b[0m \u001b[1;33m=\u001b[0m \u001b[0msp\u001b[0m\u001b[1;33m.\u001b[0m\u001b[0mcurrent_user_top_artists\u001b[0m\u001b[1;33m(\u001b[0m\u001b[0mlimit\u001b[0m \u001b[1;33m=\u001b[0m \u001b[1;36m50\u001b[0m\u001b[1;33m,\u001b[0m \u001b[0mtime_range\u001b[0m \u001b[1;33m=\u001b[0m \u001b[1;34m\"long_term\"\u001b[0m\u001b[1;33m)\u001b[0m\u001b[1;33m\u001b[0m\u001b[1;33m\u001b[0m\u001b[0m\n",
      "\u001b[1;31mTypeError\u001b[0m: drop_duplicates() got an unexpected keyword argument 'axis'"
     ]
    }
   ],
   "source": [
    "top_tracks_short = sp.current_user_top_tracks(limit = 50,offset=0,time_range='short_term')\n",
    "top_tracks_med = sp.current_user_top_tracks(limit = 50,offset=0,time_range='medium_term')\n",
    "top_tracks_long = sp.current_user_top_tracks(limit = 50,offset=0,time_range='long_term')\n",
    "\n",
    "#combine the top_tracks\n",
    "top_tracks_short_df = append_audio_features(create_df_top_songs(top_tracks_short),sp)\n",
    "top_tracks_med_df = append_audio_features(create_df_top_songs(top_tracks_med),sp)\n",
    "top_tracks_long_df = append_audio_features(create_df_top_songs(top_tracks_long),sp)\n",
    "\n",
    "top_tracks_short_df[\"Timeframe\"] = \"short term\"\n",
    "top_tracks_med_df[\"Timeframe\"] = \"medium term\"\n",
    "top_tracks_long_df[\"Timeframe\"] = \"long term\"\n",
    "\n",
    "top_tracks = pd.concat([top_tracks_short_df, top_tracks_med_df, top_tracks_long_df])\n",
    "top_tracks = top_tracks.reset_index(drop = True)\n",
    "\n",
    "top_artists_long = sp.current_user_top_artists(limit = 50, time_range = \"long_term\")\n",
    "top_artists_med = sp.current_user_top_artists(limit = 50, time_range = \"medium_term\")\n",
    "top_artists_short = sp.current_user_top_artists(limit = 50, time_range = \"short_term\")\n",
    "\n",
    "\n",
    "artists_short_df = top_artists_from_API(top_artists_short)\n",
    "artists_med_df = top_artists_from_API(top_artists_med)\n",
    "artists_long_df = top_artists_from_API(top_artists_long)\n",
    "\n",
    "\n",
    "artists_df = pd.concat([artists_short_df,artists_med_df,artists_long_df])\n",
    "artists_df[\"genres\"] = artists_df[\"genres\"].apply(lambda x: \",\".join(x))\n",
    "artists_df.drop_duplicates().reset_index(drop = True)"
   ]
  },
  {
   "cell_type": "code",
   "execution_count": null,
   "metadata": {},
   "outputs": [],
   "source": [
    "top_tracks.drop_duplicates()"
   ]
  },
  {
   "cell_type": "code",
   "execution_count": 13,
   "metadata": {},
   "outputs": [
    {
     "data": {
      "text/plain": [
       "['danceability',\n",
       " 'energy',\n",
       " 'key',\n",
       " 'loudness',\n",
       " 'mode',\n",
       " 'speechiness',\n",
       " 'acousticness',\n",
       " 'instrumentalness',\n",
       " 'liveness',\n",
       " 'valence']"
      ]
     },
     "execution_count": 13,
     "metadata": {},
     "output_type": "execute_result"
    }
   ],
   "source": [
    "list(top_tracks_short_df.columns[6:-2])"
   ]
  },
  {
   "cell_type": "code",
   "execution_count": 14,
   "metadata": {},
   "outputs": [],
   "source": [
    "audio_features = list(top_tracks_short_df.columns[6:-2])\n",
    "audio_features.append(\"Timeframe\")"
   ]
  },
  {
   "cell_type": "code",
   "execution_count": 15,
   "metadata": {},
   "outputs": [
    {
     "data": {
      "text/html": [
       "<div>\n",
       "<style scoped>\n",
       "    .dataframe tbody tr th:only-of-type {\n",
       "        vertical-align: middle;\n",
       "    }\n",
       "\n",
       "    .dataframe tbody tr th {\n",
       "        vertical-align: top;\n",
       "    }\n",
       "\n",
       "    .dataframe thead th {\n",
       "        text-align: right;\n",
       "    }\n",
       "</style>\n",
       "<table border=\"1\" class=\"dataframe\">\n",
       "  <thead>\n",
       "    <tr style=\"text-align: right;\">\n",
       "      <th></th>\n",
       "      <th>danceability</th>\n",
       "      <th>energy</th>\n",
       "      <th>key</th>\n",
       "      <th>loudness</th>\n",
       "      <th>mode</th>\n",
       "      <th>speechiness</th>\n",
       "      <th>acousticness</th>\n",
       "      <th>instrumentalness</th>\n",
       "      <th>liveness</th>\n",
       "      <th>valence</th>\n",
       "    </tr>\n",
       "    <tr>\n",
       "      <th>Timeframe</th>\n",
       "      <th></th>\n",
       "      <th></th>\n",
       "      <th></th>\n",
       "      <th></th>\n",
       "      <th></th>\n",
       "      <th></th>\n",
       "      <th></th>\n",
       "      <th></th>\n",
       "      <th></th>\n",
       "      <th></th>\n",
       "    </tr>\n",
       "  </thead>\n",
       "  <tbody>\n",
       "    <tr>\n",
       "      <th>long term</th>\n",
       "      <td>0.66304</td>\n",
       "      <td>0.63300</td>\n",
       "      <td>5.86</td>\n",
       "      <td>-6.61438</td>\n",
       "      <td>0.60</td>\n",
       "      <td>0.092126</td>\n",
       "      <td>0.251583</td>\n",
       "      <td>0.005209</td>\n",
       "      <td>0.170326</td>\n",
       "      <td>0.471144</td>\n",
       "    </tr>\n",
       "    <tr>\n",
       "      <th>medium term</th>\n",
       "      <td>0.68136</td>\n",
       "      <td>0.62924</td>\n",
       "      <td>5.18</td>\n",
       "      <td>-6.76458</td>\n",
       "      <td>0.58</td>\n",
       "      <td>0.095004</td>\n",
       "      <td>0.226746</td>\n",
       "      <td>0.004104</td>\n",
       "      <td>0.138608</td>\n",
       "      <td>0.420542</td>\n",
       "    </tr>\n",
       "    <tr>\n",
       "      <th>short term</th>\n",
       "      <td>0.65956</td>\n",
       "      <td>0.62590</td>\n",
       "      <td>5.46</td>\n",
       "      <td>-7.11388</td>\n",
       "      <td>0.52</td>\n",
       "      <td>0.116136</td>\n",
       "      <td>0.242122</td>\n",
       "      <td>0.004663</td>\n",
       "      <td>0.143208</td>\n",
       "      <td>0.384246</td>\n",
       "    </tr>\n",
       "  </tbody>\n",
       "</table>\n",
       "</div>"
      ],
      "text/plain": [
       "             danceability   energy   key  loudness  mode  speechiness  \\\n",
       "Timeframe                                                               \n",
       "long term         0.66304  0.63300  5.86  -6.61438  0.60     0.092126   \n",
       "medium term       0.68136  0.62924  5.18  -6.76458  0.58     0.095004   \n",
       "short term        0.65956  0.62590  5.46  -7.11388  0.52     0.116136   \n",
       "\n",
       "             acousticness  instrumentalness  liveness   valence  \n",
       "Timeframe                                                        \n",
       "long term        0.251583          0.005209  0.170326  0.471144  \n",
       "medium term      0.226746          0.004104  0.138608  0.420542  \n",
       "short term       0.242122          0.004663  0.143208  0.384246  "
      ]
     },
     "execution_count": 15,
     "metadata": {},
     "output_type": "execute_result"
    }
   ],
   "source": [
    "audio_overtime_df = top_tracks[audio_features].groupby(\"Timeframe\").mean()\n",
    "audio_overtime_df"
   ]
  },
  {
   "cell_type": "code",
   "execution_count": 16,
   "metadata": {},
   "outputs": [],
   "source": [
    "audio_overtime_df.reset_index(inplace = True)"
   ]
  },
  {
   "cell_type": "code",
   "execution_count": 17,
   "metadata": {},
   "outputs": [
    {
     "data": {
      "text/html": [
       "<div>\n",
       "<style scoped>\n",
       "    .dataframe tbody tr th:only-of-type {\n",
       "        vertical-align: middle;\n",
       "    }\n",
       "\n",
       "    .dataframe tbody tr th {\n",
       "        vertical-align: top;\n",
       "    }\n",
       "\n",
       "    .dataframe thead th {\n",
       "        text-align: right;\n",
       "    }\n",
       "</style>\n",
       "<table border=\"1\" class=\"dataframe\">\n",
       "  <thead>\n",
       "    <tr style=\"text-align: right;\">\n",
       "      <th></th>\n",
       "      <th>Timeframe</th>\n",
       "      <th>audio_feature</th>\n",
       "      <th>mean</th>\n",
       "    </tr>\n",
       "  </thead>\n",
       "  <tbody>\n",
       "    <tr>\n",
       "      <th>0</th>\n",
       "      <td>long term</td>\n",
       "      <td>danceability</td>\n",
       "      <td>0.663040</td>\n",
       "    </tr>\n",
       "    <tr>\n",
       "      <th>1</th>\n",
       "      <td>medium term</td>\n",
       "      <td>danceability</td>\n",
       "      <td>0.681360</td>\n",
       "    </tr>\n",
       "    <tr>\n",
       "      <th>2</th>\n",
       "      <td>short term</td>\n",
       "      <td>danceability</td>\n",
       "      <td>0.659560</td>\n",
       "    </tr>\n",
       "    <tr>\n",
       "      <th>3</th>\n",
       "      <td>long term</td>\n",
       "      <td>energy</td>\n",
       "      <td>0.633000</td>\n",
       "    </tr>\n",
       "    <tr>\n",
       "      <th>4</th>\n",
       "      <td>medium term</td>\n",
       "      <td>energy</td>\n",
       "      <td>0.629240</td>\n",
       "    </tr>\n",
       "    <tr>\n",
       "      <th>5</th>\n",
       "      <td>short term</td>\n",
       "      <td>energy</td>\n",
       "      <td>0.625900</td>\n",
       "    </tr>\n",
       "    <tr>\n",
       "      <th>6</th>\n",
       "      <td>long term</td>\n",
       "      <td>key</td>\n",
       "      <td>5.860000</td>\n",
       "    </tr>\n",
       "    <tr>\n",
       "      <th>7</th>\n",
       "      <td>medium term</td>\n",
       "      <td>key</td>\n",
       "      <td>5.180000</td>\n",
       "    </tr>\n",
       "    <tr>\n",
       "      <th>8</th>\n",
       "      <td>short term</td>\n",
       "      <td>key</td>\n",
       "      <td>5.460000</td>\n",
       "    </tr>\n",
       "    <tr>\n",
       "      <th>9</th>\n",
       "      <td>long term</td>\n",
       "      <td>loudness</td>\n",
       "      <td>-6.614380</td>\n",
       "    </tr>\n",
       "    <tr>\n",
       "      <th>10</th>\n",
       "      <td>medium term</td>\n",
       "      <td>loudness</td>\n",
       "      <td>-6.764580</td>\n",
       "    </tr>\n",
       "    <tr>\n",
       "      <th>11</th>\n",
       "      <td>short term</td>\n",
       "      <td>loudness</td>\n",
       "      <td>-7.113880</td>\n",
       "    </tr>\n",
       "    <tr>\n",
       "      <th>12</th>\n",
       "      <td>long term</td>\n",
       "      <td>mode</td>\n",
       "      <td>0.600000</td>\n",
       "    </tr>\n",
       "    <tr>\n",
       "      <th>13</th>\n",
       "      <td>medium term</td>\n",
       "      <td>mode</td>\n",
       "      <td>0.580000</td>\n",
       "    </tr>\n",
       "    <tr>\n",
       "      <th>14</th>\n",
       "      <td>short term</td>\n",
       "      <td>mode</td>\n",
       "      <td>0.520000</td>\n",
       "    </tr>\n",
       "    <tr>\n",
       "      <th>15</th>\n",
       "      <td>long term</td>\n",
       "      <td>speechiness</td>\n",
       "      <td>0.092126</td>\n",
       "    </tr>\n",
       "    <tr>\n",
       "      <th>16</th>\n",
       "      <td>medium term</td>\n",
       "      <td>speechiness</td>\n",
       "      <td>0.095004</td>\n",
       "    </tr>\n",
       "    <tr>\n",
       "      <th>17</th>\n",
       "      <td>short term</td>\n",
       "      <td>speechiness</td>\n",
       "      <td>0.116136</td>\n",
       "    </tr>\n",
       "    <tr>\n",
       "      <th>18</th>\n",
       "      <td>long term</td>\n",
       "      <td>acousticness</td>\n",
       "      <td>0.251583</td>\n",
       "    </tr>\n",
       "    <tr>\n",
       "      <th>19</th>\n",
       "      <td>medium term</td>\n",
       "      <td>acousticness</td>\n",
       "      <td>0.226746</td>\n",
       "    </tr>\n",
       "    <tr>\n",
       "      <th>20</th>\n",
       "      <td>short term</td>\n",
       "      <td>acousticness</td>\n",
       "      <td>0.242122</td>\n",
       "    </tr>\n",
       "    <tr>\n",
       "      <th>21</th>\n",
       "      <td>long term</td>\n",
       "      <td>instrumentalness</td>\n",
       "      <td>0.005209</td>\n",
       "    </tr>\n",
       "    <tr>\n",
       "      <th>22</th>\n",
       "      <td>medium term</td>\n",
       "      <td>instrumentalness</td>\n",
       "      <td>0.004104</td>\n",
       "    </tr>\n",
       "    <tr>\n",
       "      <th>23</th>\n",
       "      <td>short term</td>\n",
       "      <td>instrumentalness</td>\n",
       "      <td>0.004663</td>\n",
       "    </tr>\n",
       "    <tr>\n",
       "      <th>24</th>\n",
       "      <td>long term</td>\n",
       "      <td>liveness</td>\n",
       "      <td>0.170326</td>\n",
       "    </tr>\n",
       "    <tr>\n",
       "      <th>25</th>\n",
       "      <td>medium term</td>\n",
       "      <td>liveness</td>\n",
       "      <td>0.138608</td>\n",
       "    </tr>\n",
       "    <tr>\n",
       "      <th>26</th>\n",
       "      <td>short term</td>\n",
       "      <td>liveness</td>\n",
       "      <td>0.143208</td>\n",
       "    </tr>\n",
       "    <tr>\n",
       "      <th>27</th>\n",
       "      <td>long term</td>\n",
       "      <td>valence</td>\n",
       "      <td>0.471144</td>\n",
       "    </tr>\n",
       "    <tr>\n",
       "      <th>28</th>\n",
       "      <td>medium term</td>\n",
       "      <td>valence</td>\n",
       "      <td>0.420542</td>\n",
       "    </tr>\n",
       "    <tr>\n",
       "      <th>29</th>\n",
       "      <td>short term</td>\n",
       "      <td>valence</td>\n",
       "      <td>0.384246</td>\n",
       "    </tr>\n",
       "  </tbody>\n",
       "</table>\n",
       "</div>"
      ],
      "text/plain": [
       "      Timeframe     audio_feature      mean\n",
       "0     long term      danceability  0.663040\n",
       "1   medium term      danceability  0.681360\n",
       "2    short term      danceability  0.659560\n",
       "3     long term            energy  0.633000\n",
       "4   medium term            energy  0.629240\n",
       "5    short term            energy  0.625900\n",
       "6     long term               key  5.860000\n",
       "7   medium term               key  5.180000\n",
       "8    short term               key  5.460000\n",
       "9     long term          loudness -6.614380\n",
       "10  medium term          loudness -6.764580\n",
       "11   short term          loudness -7.113880\n",
       "12    long term              mode  0.600000\n",
       "13  medium term              mode  0.580000\n",
       "14   short term              mode  0.520000\n",
       "15    long term       speechiness  0.092126\n",
       "16  medium term       speechiness  0.095004\n",
       "17   short term       speechiness  0.116136\n",
       "18    long term      acousticness  0.251583\n",
       "19  medium term      acousticness  0.226746\n",
       "20   short term      acousticness  0.242122\n",
       "21    long term  instrumentalness  0.005209\n",
       "22  medium term  instrumentalness  0.004104\n",
       "23   short term  instrumentalness  0.004663\n",
       "24    long term          liveness  0.170326\n",
       "25  medium term          liveness  0.138608\n",
       "26   short term          liveness  0.143208\n",
       "27    long term           valence  0.471144\n",
       "28  medium term           valence  0.420542\n",
       "29   short term           valence  0.384246"
      ]
     },
     "execution_count": 17,
     "metadata": {},
     "output_type": "execute_result"
    }
   ],
   "source": [
    "plot_df = pd.melt(audio_overtime_df, id_vars = \"Timeframe\",\n",
    "                           var_name = \"audio_feature\", value_name = \"mean\")\n",
    "plot_df"
   ]
  },
  {
   "cell_type": "code",
   "execution_count": 18,
   "metadata": {},
   "outputs": [
    {
     "data": {
      "image/png": "[encoded data removed]",
      "text/plain": [
       "<Figure size 720x360 with 1 Axes>"
      ]
     },
     "metadata": {
      "needs_background": "light"
     },
     "output_type": "display_data"
    }
   ],
   "source": [
    "#%matplotlib inline\n",
    "sns.catplot(data = plot_df, kind = \"bar\", x = \"Timeframe\",\n",
    "            y = \"mean\", hue = \"audio_feature\"\n",
    ")\n",
    "fig = plt.gcf()\n",
    "fig.set_size_inches(10, 5)\n",
    "plt.show()"
   ]
  },
  {
   "cell_type": "code",
   "execution_count": 19,
   "metadata": {},
   "outputs": [
    {
     "data": {
      "text/plain": [
       "['danceability',\n",
       " 'energy',\n",
       " 'key',\n",
       " 'loudness',\n",
       " 'mode',\n",
       " 'speechiness',\n",
       " 'acousticness',\n",
       " 'instrumentalness',\n",
       " 'liveness',\n",
       " 'valence']"
      ]
     },
     "execution_count": 19,
     "metadata": {},
     "output_type": "execute_result"
    }
   ],
   "source": [
    "cluster_feat = audio_features[:-1]\n",
    "cluster_feat"
   ]
  },
  {
   "cell_type": "code",
   "execution_count": 20,
   "metadata": {},
   "outputs": [
    {
     "data": {
      "text/plain": [
       "array([[<AxesSubplot:title={'center':'danceability'}>,\n",
       "        <AxesSubplot:title={'center':'energy'}>,\n",
       "        <AxesSubplot:title={'center':'key'}>],\n",
       "       [<AxesSubplot:title={'center':'loudness'}>,\n",
       "        <AxesSubplot:title={'center':'speechiness'}>,\n",
       "        <AxesSubplot:title={'center':'acousticness'}>],\n",
       "       [<AxesSubplot:title={'center':'instrumentalness'}>,\n",
       "        <AxesSubplot:title={'center':'liveness'}>,\n",
       "        <AxesSubplot:title={'center':'valence'}>]], dtype=object)"
      ]
     },
     "execution_count": 20,
     "metadata": {},
     "output_type": "execute_result"
    },
    {
     "data": {
      "image/png": "[encoded data removed]",
      "text/plain": [
       "<Figure size 1080x720 with 9 Axes>"
      ]
     },
     "metadata": {
      "needs_background": "light"
     },
     "output_type": "display_data"
    }
   ],
   "source": [
    "df_cluster = top_tracks[cluster_feat].drop(\"mode\",axis = 1)\n",
    "df_cluster.hist(figsize= (15,10))"
   ]
  },
  {
   "cell_type": "code",
   "execution_count": 21,
   "metadata": {},
   "outputs": [
    {
     "data": {
      "image/png": "[encoded data removed]",
      "text/plain": [
       "<Figure size 432x288 with 1 Axes>"
      ]
     },
     "metadata": {
      "needs_background": "light"
     },
     "output_type": "display_data"
    }
   ],
   "source": [
    "from sklearn.cluster import KMeans\n",
    "from sklearn.preprocessing import StandardScaler\n",
    "\n",
    "X = np.array(df_cluster)\n",
    "scaler = StandardScaler()\n",
    "scaler.fit(X)\n",
    "X = scaler.transform(X)\n",
    "\n",
    "\n",
    "ss_dist = []\n",
    "for k in range(1,21):\n",
    "    km = KMeans(n_clusters=k,max_iter = 10000 ,random_state=13)\n",
    "    km = km.fit(X)\n",
    "    ss_dist.append(km.inertia_)\n",
    "    \n",
    "plt.plot(range(1,21), ss_dist, 'bx-')\n",
    "plt.xlabel('k')\n",
    "plt.ylabel('Sum of squared distances')\n",
    "plt.title('Elbow Method For Optimal k')\n",
    "plt.show()\n",
    "\n"
   ]
  },
  {
   "cell_type": "code",
   "execution_count": 54,
   "metadata": {},
   "outputs": [],
   "source": [
    "n_cluster = 6\n",
    "km = KMeans(n_clusters = n_cluster, max_iter = 10000, random_state=13).fit(X)"
   ]
  },
  {
   "cell_type": "code",
   "execution_count": 55,
   "metadata": {},
   "outputs": [],
   "source": [
    "X_pred = km.predict(X)"
   ]
  },
  {
   "cell_type": "code",
   "execution_count": 56,
   "metadata": {},
   "outputs": [
    {
     "data": {
      "text/plain": [
       "(150,)"
      ]
     },
     "execution_count": 56,
     "metadata": {},
     "output_type": "execute_result"
    }
   ],
   "source": [
    "X_pred.shape"
   ]
  },
  {
   "cell_type": "code",
   "execution_count": 57,
   "metadata": {},
   "outputs": [],
   "source": [
    "top_tracks[\"cluster\"] = X_pred"
   ]
  },
  {
   "cell_type": "code",
   "execution_count": 58,
   "metadata": {},
   "outputs": [
    {
     "name": "stdout",
     "output_type": "stream",
     "text": [
      "\n",
      "                                      track_name             artist\n",
      "0                                          Swim     Chase Atlantic\n",
      "1               WHAT TO DO? (feat. Don Toliver)           JACKBOYS\n",
      "6                                       Friends     Chase Atlantic\n",
      "7                                       Into It     Chase Atlantic\n",
      "24             Consume (feat. Goon Des Garcons)     Chase Atlantic\n",
      "28                                    Triggered     Chase Atlantic\n",
      "31                                       Lonely             Tujamo\n",
      "33                                       Cassie     Chase Atlantic\n",
      "40          Jenny (I Wanna Ruin Our Friendship)     Studio Killers\n",
      "44                                         Elbe              Bozza\n",
      "47                                   Endorphine            TheDoDo\n",
      "72                              Einsam zu zweit         Simon Will\n",
      "80   Still Be Friends (feat. Tory Lanez & Tyga)             G-Eazy\n",
      "84                                     Birthday         Anne-Marie\n",
      "90                              I Can't Stop Me  Sabrina Carpenter\n",
      "99                                    Lights Up       Harry Styles\n",
      "107                                  Don’t Play             Halsey\n",
      "109                                   gone girl          iann dior\n",
      "119                                 Reflections  The Neighbourhood\n",
      "121                                    emotions          iann dior\n",
      "123                                     Hi Babe               Juju\n",
      "136                                        Easy       Kyd the Band\n",
      "148                                     Falling      Trevor Daniel \n",
      "\n",
      "\n",
      "                                             track_name          artist\n",
      "10                                   Smaller Than This       Sara Kays\n",
      "18                                 Lose You To Love Me    Selena Gomez\n",
      "21   Or Nah (feat. The Weeknd, Wiz Khalifa & DJ Mus...   Ty Dolla $ign\n",
      "23                                                  23  Chase Atlantic\n",
      "37                      Rudolph The Red-Nosed Reindeer  Helene Fischer\n",
      "43                                              willow    Taylor Swift\n",
      "48                                              Dakiti       Bad Bunny\n",
      "60                                   Angels 'N' Demons      Fantom Blu\n",
      "71                                             Control        Zoe Wees\n",
      "106                                         To Die For       Sam Smith\n",
      "120                                 Moral of the Story            Ashe\n",
      "135                                             Savage          Bahari \n",
      "\n",
      "\n",
      "                                    track_name             artist\n",
      "4                                Du willst es           Kontra K\n",
      "5                                      Leaked           Lil Tjay\n",
      "9                                    Emotions             Ufo361\n",
      "14                               Shit Changed             Ufo361\n",
      "15                                        WOW       Zara Larsson\n",
      "16                                       Sike       Mahogany Lox\n",
      "20                  Tiefschwarz (feat. Samra)           Kontra K\n",
      "29                                     Hyänen               Vega\n",
      "36                                   Bläulich         Apache 207\n",
      "39                                    Nonstop              Drake\n",
      "41               Mood Swings (feat. Lil Tjay)          Pop Smoke\n",
      "45                              Wenn ich will             CÉLINE\n",
      "89                                       Tusa            KAROL G\n",
      "96                                        Why  Sabrina Carpenter\n",
      "114                                      2002               Sido\n",
      "124                                   Love Me          Lil Tecca\n",
      "127                                    Sue Me  Sabrina Carpenter\n",
      "140                               Made 4 Love               SXTN\n",
      "143  All Roads Lead Home (Hobbs & Shaw Remix)          Ohana Bam \n",
      "\n",
      "\n",
      "   track_name artist\n",
      "3   Your Man   Joji \n",
      "\n",
      "\n",
      "                                   track_name              artist\n",
      "2                                     Twingo       Fynn Kliemann\n",
      "8                  VALENTINO - Imanbek Remix            24kGoldn\n",
      "13                                 Hollywood           LA Vision\n",
      "68                                Summer 16'  Sebastian Olzanski\n",
      "128                              Upside Down             A*Teens\n",
      "132                                 Obsessed        Mariah Carey\n",
      "133                 Mmm Yeah (feat. Pitbull)       Austin Mahone\n",
      "146  Tongue Tied (with YUNGBLUD & blackbear)          Marshmello \n",
      "\n",
      "\n",
      " Empty DataFrame\n",
      "Columns: [track_name, artist]\n",
      "Index: [] \n",
      "\n"
     ]
    }
   ],
   "source": [
    "for i in range(1,n_cluster+1):\n",
    "    print(\"\\n\",top_tracks[[\"track_name\",\"artist\"]][top_tracks[\"cluster\"] == i].drop_duplicates(), \"\\n\")\n"
   ]
  },
  {
   "cell_type": "code",
   "execution_count": 61,
   "metadata": {},
   "outputs": [
    {
     "data": {
      "text/html": [
       "<div>\n",
       "<style scoped>\n",
       "    .dataframe tbody tr th:only-of-type {\n",
       "        vertical-align: middle;\n",
       "    }\n",
       "\n",
       "    .dataframe tbody tr th {\n",
       "        vertical-align: top;\n",
       "    }\n",
       "\n",
       "    .dataframe thead th {\n",
       "        text-align: right;\n",
       "    }\n",
       "</style>\n",
       "<table border=\"1\" class=\"dataframe\">\n",
       "  <thead>\n",
       "    <tr style=\"text-align: right;\">\n",
       "      <th></th>\n",
       "      <th>D1</th>\n",
       "      <th>D2</th>\n",
       "      <th>label</th>\n",
       "    </tr>\n",
       "  </thead>\n",
       "  <tbody>\n",
       "    <tr>\n",
       "      <th>0</th>\n",
       "      <td>-1.130690</td>\n",
       "      <td>-14.664140</td>\n",
       "      <td>1</td>\n",
       "    </tr>\n",
       "    <tr>\n",
       "      <th>1</th>\n",
       "      <td>-1.991402</td>\n",
       "      <td>-13.752702</td>\n",
       "      <td>1</td>\n",
       "    </tr>\n",
       "    <tr>\n",
       "      <th>2</th>\n",
       "      <td>5.002971</td>\n",
       "      <td>-2.365036</td>\n",
       "      <td>5</td>\n",
       "    </tr>\n",
       "    <tr>\n",
       "      <th>3</th>\n",
       "      <td>12.450947</td>\n",
       "      <td>-14.383239</td>\n",
       "      <td>4</td>\n",
       "    </tr>\n",
       "    <tr>\n",
       "      <th>4</th>\n",
       "      <td>1.506542</td>\n",
       "      <td>-6.862997</td>\n",
       "      <td>3</td>\n",
       "    </tr>\n",
       "  </tbody>\n",
       "</table>\n",
       "</div>"
      ],
      "text/plain": [
       "          D1         D2  label\n",
       "0  -1.130690 -14.664140      1\n",
       "1  -1.991402 -13.752702      1\n",
       "2   5.002971  -2.365036      5\n",
       "3  12.450947 -14.383239      4\n",
       "4   1.506542  -6.862997      3"
      ]
     },
     "execution_count": 61,
     "metadata": {},
     "output_type": "execute_result"
    }
   ],
   "source": [
    "from sklearn.manifold import TSNE\n",
    "tsne = TSNE(n_components=2, perplexity=50, n_iter=5000, random_state=123, learning_rate=190)\n",
    "tsne_results = tsne.fit_transform(X)\n",
    "\n",
    "df_tsne = pd.DataFrame(tsne_results)\n",
    "df_tsne.columns = ['D1', 'D2']\n",
    "df_tsne['label'] = km.labels_\n",
    "df_tsne.head()"
   ]
  },
  {
   "cell_type": "code",
   "execution_count": 62,
   "metadata": {},
   "outputs": [
    {
     "data": {
      "image/png": "[encoded data removed]",
      "text/plain": [
       "<Figure size 432x288 with 1 Axes>"
      ]
     },
     "metadata": {
      "needs_background": "light"
     },
     "output_type": "display_data"
    }
   ],
   "source": [
    "sns.scatterplot(data = df_tsne, x = \"D1\", y = \"D2\", hue = \"label\", style = \"label\",\n",
    "                palette = \"tab10\")\n",
    "plt.legend()\n",
    "plt.show()"
   ]
  },
  {
   "cell_type": "code",
   "execution_count": 67,
   "metadata": {},
   "outputs": [
    {
     "name": "stdout",
     "output_type": "stream",
     "text": [
      "0.3798674766840999\n"
     ]
    },
    {
     "data": {
      "text/plain": [
       "array([0.23168215, 0.37986748])"
      ]
     },
     "execution_count": 67,
     "metadata": {},
     "output_type": "execute_result"
    }
   ],
   "source": [
    "from sklearn.decomposition import PCA\n",
    "pca = PCA(n_components=2, random_state=123)\n",
    "pca_results = pca.fit_transform(X)\n",
    "print(pca.explained_variance_ratio_.sum())\n",
    "pca.explained_variance_ratio_.cumsum()"
   ]
  },
  {
   "cell_type": "markdown",
   "metadata": {},
   "source": [
    "not enough variance explained for sensible visualisation"
   ]
  },
  {
   "cell_type": "code",
   "execution_count": null,
   "metadata": {},
   "outputs": [],
   "source": []
  }
 ],
 "metadata": {
  "kernelspec": {
   "display_name": "Python 3",
   "language": "python",
   "name": "python3"
  },
  "language_info": {
   "codemirror_mode": {
    "name": "ipython",
    "version": 3
   },
   "file_extension": ".py",
   "mimetype": "text/x-python",
   "name": "python",
   "nbconvert_exporter": "python",
   "pygments_lexer": "ipython3",
   "version": "3.8.5"
  }
 },
 "nbformat": 4,
 "nbformat_minor": 4
}
